{
 "cells": [
  {
   "cell_type": "markdown",
   "metadata": {},
   "source": [
    "Get to root dir if necessary"
   ]
  },
  {
   "cell_type": "code",
   "execution_count": 1,
   "metadata": {},
   "outputs": [
    {
     "name": "stdout",
     "output_type": "stream",
     "text": [
      "/home/pablo/nlp-course/assignment\n"
     ]
    }
   ],
   "source": [
    "%cd .."
   ]
  },
  {
   "cell_type": "code",
   "execution_count": 2,
   "metadata": {},
   "outputs": [
    {
     "name": "stderr",
     "output_type": "stream",
     "text": [
      "/home/pablo/.micromamba/envs/master-nlp/lib/python3.10/site-packages/tqdm/auto.py:21: TqdmWarning: IProgress not found. Please update jupyter and ipywidgets. See https://ipywidgets.readthedocs.io/en/stable/user_install.html\n",
      "  from .autonotebook import tqdm as notebook_tqdm\n"
     ]
    }
   ],
   "source": [
    "import torch\n",
    "import sys\n",
    "import json\n",
    "import os\n",
    "import pytorch_lightning as pl\n",
    "\n",
    "from pprint import pprint\n",
    "from transformers import AutoTokenizer\n",
    "\n",
    "src_path = os.path.join(os.getcwd(), \"src\")\n",
    "sys.path.append(src_path)\n",
    "\n",
    "from models.conv_transformer_model import ConvTransformer\n",
    "from heads.classification_head import ModelWithClassificationHead\n",
    "from trainers.classification_trainer import ClassificationModule\n",
    "from data_loaders.pan23 import PAN23Dataset, PAN23CollatorFn, PAN23DataModule\n",
    "from utils.freeze_layers import freeze_layers"
   ]
  },
  {
   "cell_type": "code",
   "execution_count": 3,
   "metadata": {},
   "outputs": [
    {
     "name": "stdout",
     "output_type": "stream",
     "text": [
      "{'classification_head_params': {'dropout_p': 0.1, 'ff_dim': 256},\n",
      " 'conv_layers_params': [{'conv_params': {'in_channels': 32,\n",
      "                                         'kernel_size': 5,\n",
      "                                         'out_channels': 128},\n",
      "                         'dim_feedforward': 128,\n",
      "                         'dropout_params': {'p': 0.1}},\n",
      "                        {'conv_params': {'in_channels': 128,\n",
      "                                         'kernel_size': 5,\n",
      "                                         'out_channels': 128},\n",
      "                         'dim_feedforward': 128,\n",
      "                         'dropout_params': {'p': 0.1}}],\n",
      " 'projection_head_params': {'dropout_p': 0.1, 'ff_dim': 256, 'output_dim': 128},\n",
      " 'transformer_model': 'roberta-base'}\n",
      "------------------\n",
      "{'data_module_params': {'batch_size': 16,\n",
      "                        'data_path': 'data/pan23/transformed',\n",
      "                        'max_len': 512,\n",
      "                        'tokenizer': 'roberta-base'},\n",
      " 'optimizer_params': {'lr': 1e-05},\n",
      " 'trainer_params': {'accelerator': 'cuda',\n",
      "                    'default_root_dir': 'out/conv_transformer_base/finetuned/',\n",
      "                    'devices': 2,\n",
      "                    'enable_checkpointing': True,\n",
      "                    'max_steps': 5000},\n",
      " 'unfrozen_layers': 1}\n"
     ]
    }
   ],
   "source": [
    "with open(os.path.join(os.getcwd(), \"configs\", \"base-config.json\")) as f:\n",
    "    config = json.load(f)\n",
    "model_params = config[\"model_params\"]\n",
    "pan_train_params = config[\"pan_train_params\"]\n",
    "pprint(model_params)\n",
    "print(\"------------------\")\n",
    "pprint(pan_train_params)"
   ]
  },
  {
   "cell_type": "code",
   "execution_count": 4,
   "metadata": {},
   "outputs": [
    {
     "name": "stderr",
     "output_type": "stream",
     "text": [
      "Some weights of RobertaModel were not initialized from the model checkpoint at roberta-base and are newly initialized: ['roberta.pooler.dense.bias', 'roberta.pooler.dense.weight']\n",
      "You should probably TRAIN this model on a down-stream task to be able to use it for predictions and inference.\n"
     ]
    }
   ],
   "source": [
    "model = ConvTransformer(model_params[\"conv_layers_params\"], model_params[\"transformer_model\"])"
   ]
  },
  {
   "cell_type": "code",
   "execution_count": 5,
   "metadata": {},
   "outputs": [],
   "source": [
    "model_with_classification_head = ModelWithClassificationHead(\n",
    "    model=model, \n",
    "    input_dim=model.output_embedding_dim,\n",
    "    **model_params[\"classification_head_params\"]\n",
    ")"
   ]
  },
  {
   "cell_type": "code",
   "execution_count": 6,
   "metadata": {},
   "outputs": [],
   "source": [
    "data_path = pan_train_params[\"data_module_params\"][\"data_path\"]\n",
    "task1_data_path = os.path.join(data_path, \"task1\")\n",
    "pan_train_params[\"data_module_params\"][\"data_path\"] = task1_data_path"
   ]
  },
  {
   "cell_type": "code",
   "execution_count": 7,
   "metadata": {},
   "outputs": [],
   "source": [
    "data_module = PAN23DataModule.from_joint_config(\n",
    "    pan_train_params[\"data_module_params\"]\n",
    ")\n"
   ]
  },
  {
   "cell_type": "code",
   "execution_count": 8,
   "metadata": {},
   "outputs": [],
   "source": [
    "freeze_layers(model.transformer_model, pan_train_params[\"unfrozen_layers\"])"
   ]
  },
  {
   "cell_type": "code",
   "execution_count": 9,
   "metadata": {},
   "outputs": [],
   "source": [
    "classification_module = ClassificationModule(\n",
    "    model=model_with_classification_head,\n",
    "    optimizer_config=pan_train_params[\"optimizer_params\"],\n",
    "    positive_ratio=data_module.get_positive_ratio(),\n",
    ")"
   ]
  },
  {
   "cell_type": "code",
   "execution_count": 10,
   "metadata": {},
   "outputs": [
    {
     "name": "stderr",
     "output_type": "stream",
     "text": [
      "GPU available: True (cuda), used: True\n",
      "TPU available: False, using: 0 TPU cores\n",
      "IPU available: False, using: 0 IPUs\n",
      "HPU available: False, using: 0 HPUs\n",
      "/home/pablo/.micromamba/envs/master-nlp/lib/python3.10/site-packages/pytorch_lightning/trainer/connectors/logger_connector/logger_connector.py:67: Starting from v1.9.0, `tensorboardX` has been removed as a dependency of the `pytorch_lightning` package, due to potential conflicts with other packages in the ML ecosystem. For this reason, `logger=True` will use `CSVLogger` as the default logger, unless the `tensorboard` or `tensorboardX` packages are found. Please `pip install lightning[extra]` or one of them to enable TensorBoard support by default\n"
     ]
    }
   ],
   "source": [
    "trainer = pl.Trainer(\n",
    "    **pan_train_params[\"trainer_params\"]\n",
    ")"
   ]
  },
  {
   "cell_type": "code",
   "execution_count": 11,
   "metadata": {},
   "outputs": [
    {
     "name": "stderr",
     "output_type": "stream",
     "text": [
      "Initializing distributed: GLOBAL_RANK: 0, MEMBER: 1/2\n",
      "Initializing distributed: GLOBAL_RANK: 1, MEMBER: 2/2\n",
      "----------------------------------------------------------------------------------------------------\n",
      "distributed_backend=nccl\n",
      "All distributed processes registered. Starting with 2 processes\n",
      "----------------------------------------------------------------------------------------------------\n",
      "\n",
      "You are using a CUDA device ('NVIDIA GeForce RTX 3090') that has Tensor Cores. To properly utilize them, you should set `torch.set_float32_matmul_precision('medium' | 'high')` which will trade-off precision for performance. For more details, read https://pytorch.org/docs/stable/generated/torch.set_float32_matmul_precision.html#torch.set_float32_matmul_precision\n",
      "Missing logger folder: out/conv_transformer_base/finetuned/lightning_logs\n",
      "Missing logger folder: out/conv_transformer_base/finetuned/lightning_logs\n",
      "LOCAL_RANK: 0 - CUDA_VISIBLE_DEVICES: [0,1,2]\n",
      "LOCAL_RANK: 1 - CUDA_VISIBLE_DEVICES: [0,1,2]\n",
      "\n",
      "  | Name     | Type                        | Params\n",
      "---------------------------------------------------------\n",
      "0 | model    | ModelWithClassificationHead | 126 M \n",
      "1 | f1_score | BinaryF1Score               | 0     \n",
      "2 | loss_fn  | BCEWithLogitsLoss           | 0     \n",
      "---------------------------------------------------------\n",
      "9.3 M     Trainable params\n",
      "117 M     Non-trainable params\n",
      "126 M     Total params\n",
      "507.532   Total estimated model params size (MB)\n"
     ]
    },
    {
     "name": "stdout",
     "output_type": "stream",
     "text": [
      "Sanity Checking DataLoader 0:   0%|          | 0/2 [00:00<?, ?it/s]"
     ]
    },
    {
     "name": "stderr",
     "output_type": "stream",
     "text": [
      "/home/pablo/.micromamba/envs/master-nlp/lib/python3.10/site-packages/pytorch_lightning/utilities/data.py:77: Trying to infer the `batch_size` from an ambiguous collection. The batch size we found is 32. To avoid any miscalculations, use `self.log(..., batch_size=batch_size)`.\n"
     ]
    },
    {
     "name": "stdout",
     "output_type": "stream",
     "text": [
      "Sanity Checking DataLoader 0: 100%|██████████| 2/2 [00:01<00:00,  1.34it/s]"
     ]
    },
    {
     "name": "stderr",
     "output_type": "stream",
     "text": [
      "/home/pablo/.micromamba/envs/master-nlp/lib/python3.10/site-packages/pytorch_lightning/trainer/connectors/logger_connector/result.py:429: It is recommended to use `self.log('val_loss', ..., sync_dist=True)` when logging on epoch level in distributed setting to accumulate the metric across devices.\n",
      "/home/pablo/.micromamba/envs/master-nlp/lib/python3.10/site-packages/pytorch_lightning/trainer/connectors/logger_connector/result.py:429: It is recommended to use `self.log('val_f1_score', ..., sync_dist=True)` when logging on epoch level in distributed setting to accumulate the metric across devices.\n"
     ]
    },
    {
     "name": "stdout",
     "output_type": "stream",
     "text": [
      "Epoch 0: 100%|█████████▉| 403/404 [01:54<00:00,  3.51it/s, v_num=0]        "
     ]
    },
    {
     "name": "stderr",
     "output_type": "stream",
     "text": [
      "/home/pablo/.micromamba/envs/master-nlp/lib/python3.10/site-packages/pytorch_lightning/utilities/data.py:77: Trying to infer the `batch_size` from an ambiguous collection. The batch size we found is 8. To avoid any miscalculations, use `self.log(..., batch_size=batch_size)`.\n"
     ]
    },
    {
     "name": "stdout",
     "output_type": "stream",
     "text": [
      "Epoch 0: 100%|██████████| 404/404 [01:54<00:00,  3.52it/s, v_num=0]"
     ]
    },
    {
     "name": "stderr",
     "output_type": "stream",
     "text": [
      "/home/pablo/.micromamba/envs/master-nlp/lib/python3.10/site-packages/pytorch_lightning/utilities/data.py:77: Trying to infer the `batch_size` from an ambiguous collection. The batch size we found is 12. To avoid any miscalculations, use `self.log(..., batch_size=batch_size)`.\n"
     ]
    },
    {
     "name": "stdout",
     "output_type": "stream",
     "text": [
      "Epoch 0: 100%|██████████| 404/404 [02:15<00:00,  2.99it/s, v_num=0, val_loss=0.409, val_f1_score=0.928]"
     ]
    },
    {
     "name": "stderr",
     "output_type": "stream",
     "text": [
      "/home/pablo/.micromamba/envs/master-nlp/lib/python3.10/site-packages/pytorch_lightning/trainer/connectors/logger_connector/result.py:429: It is recommended to use `self.log('train_loss', ..., sync_dist=True)` when logging on epoch level in distributed setting to accumulate the metric across devices.\n",
      "/home/pablo/.micromamba/envs/master-nlp/lib/python3.10/site-packages/pytorch_lightning/trainer/connectors/logger_connector/result.py:429: It is recommended to use `self.log('train_f1_score', ..., sync_dist=True)` when logging on epoch level in distributed setting to accumulate the metric across devices.\n"
     ]
    },
    {
     "name": "stdout",
     "output_type": "stream",
     "text": [
      "Epoch 4: 100%|██████████| 404/404 [01:56<00:00,  3.47it/s, v_num=0, val_loss=0.409, val_f1_score=0.928, train_loss=0.399, train_f1_score=0.935]"
     ]
    },
    {
     "name": "stderr",
     "output_type": "stream",
     "text": [
      "/home/pablo/.micromamba/envs/master-nlp/lib/python3.10/site-packages/pytorch_lightning/trainer/call.py:54: Detected KeyboardInterrupt, attempting graceful shutdown...\n"
     ]
    },
    {
     "name": "stdout",
     "output_type": "stream",
     "text": [
      "Epoch 5:  59%|█████▉    | 239/404 [01:09<00:47,  3.46it/s, v_num=0, val_loss=0.409, val_f1_score=0.928, train_loss=0.399, train_f1_score=0.935]"
     ]
    }
   ],
   "source": [
    "trainer.fit(classification_module, data_module)"
   ]
  },
  {
   "cell_type": "code",
   "execution_count": null,
   "metadata": {},
   "outputs": [],
   "source": []
  }
 ],
 "metadata": {
  "kernelspec": {
   "display_name": "Python 3",
   "language": "python",
   "name": "python3"
  },
  "language_info": {
   "codemirror_mode": {
    "name": "ipython",
    "version": 3
   },
   "file_extension": ".py",
   "mimetype": "text/x-python",
   "name": "python",
   "nbconvert_exporter": "python",
   "pygments_lexer": "ipython3",
   "version": "3.10.0"
  }
 },
 "nbformat": 4,
 "nbformat_minor": 2
}
