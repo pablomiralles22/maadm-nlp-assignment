{
 "cells": [
  {
   "cell_type": "code",
   "execution_count": 1,
   "metadata": {},
   "outputs": [
    {
     "name": "stderr",
     "output_type": "stream",
     "text": [
      "/home/pablo/.micromamba/envs/master-nlp/lib/python3.10/site-packages/tqdm/auto.py:21: TqdmWarning: IProgress not found. Please update jupyter and ipywidgets. See https://ipywidgets.readthedocs.io/en/stable/user_install.html\n",
      "  from .autonotebook import tqdm as notebook_tqdm\n"
     ]
    }
   ],
   "source": [
    "import os\n",
    "import sys\n",
    "\n",
    "root_path = os.path.join(os.getcwd(), \"..\") # WARNING: might need to change\n",
    "src_path = os.path.join(root_path, \"src\")\n",
    "sys.path.append(src_path)\n",
    "\n",
    "from data_loaders.pan23 import PAN23Dataset, PAN23CollatorFn"
   ]
  },
  {
   "cell_type": "code",
   "execution_count": 4,
   "metadata": {},
   "outputs": [],
   "source": [
    "def calc_balance(path):\n",
    "    dataset = PAN23Dataset(path)\n",
    "    cnts = [0, 0]\n",
    "    for i in range(len(dataset)):\n",
    "        cnts[dataset[i][\"label\"]] += 1\n",
    "    print(f\"Positives: {cnts[1]}, Negatives: {cnts[0]}, Ratio: {cnts[1]/cnts[0]}\")\n",
    "    return cnts"
   ]
  },
  {
   "cell_type": "code",
   "execution_count": 5,
   "metadata": {},
   "outputs": [
    {
     "name": "stdout",
     "output_type": "stream",
     "text": [
      "Positives: 13304, Negatives: 2459, Ratio: 5.410329402196014\n",
      "Positives: 39125, Negatives: 46029, Ratio: 0.8500076039018879\n",
      "Positives: 24703, Negatives: 15712, Ratio: 1.5722377800407332\n"
     ]
    },
    {
     "data": {
      "text/plain": [
       "[15712, 24703]"
      ]
     },
     "execution_count": 5,
     "metadata": {},
     "output_type": "execute_result"
    }
   ],
   "source": [
    "calc_balance(\"../data/pan23/transformed/task1/train/\")\n",
    "calc_balance(\"../data/pan23/transformed/task2/train/\")\n",
    "calc_balance(\"../data/pan23/transformed/task3/train/\")"
   ]
  },
  {
   "cell_type": "code",
   "execution_count": 46,
   "metadata": {},
   "outputs": [
    {
     "data": {
      "text/plain": [
       "(tensor([-10.,  10., -10.]), tensor([0., 1., 0.]), tensor(0.0152))"
      ]
     },
     "execution_count": 46,
     "metadata": {},
     "output_type": "execute_result"
    }
   ],
   "source": [
    "import torch\n",
    "\n",
    "from torch import nn\n",
    "\n",
    "# set seed\n",
    "torch.manual_seed(42)\n",
    "\n",
    "loss = nn.BCEWithLogitsLoss(pos_weight=torch.tensor(1000.))\n",
    "input = torch.tensor([-10., 10., -10.])\n",
    "target = torch.tensor([0.0, 1.0, 0.0])\n",
    "output = loss(input, target)\n",
    "\n",
    "input, target, output"
   ]
  },
  {
   "cell_type": "code",
   "execution_count": null,
   "metadata": {},
   "outputs": [],
   "source": []
  }
 ],
 "metadata": {
  "kernelspec": {
   "display_name": "Python 3",
   "language": "python",
   "name": "python3"
  },
  "language_info": {
   "codemirror_mode": {
    "name": "ipython",
    "version": 3
   },
   "file_extension": ".py",
   "mimetype": "text/x-python",
   "name": "python",
   "nbconvert_exporter": "python",
   "pygments_lexer": "ipython3",
   "version": "3.10.0"
  }
 },
 "nbformat": 4,
 "nbformat_minor": 2
}
