{
 "cells": [
  {
   "cell_type": "code",
   "execution_count": 4,
   "metadata": {},
   "outputs": [
    {
     "name": "stdout",
     "output_type": "stream",
     "text": [
      "/home/pablo/nlp-course/assignment\n"
     ]
    }
   ],
   "source": [
    "%cd .."
   ]
  },
  {
   "cell_type": "code",
   "execution_count": 5,
   "metadata": {},
   "outputs": [],
   "source": [
    "import sys\n",
    "sys.path.append(\"src\")"
   ]
  },
  {
   "cell_type": "code",
   "execution_count": 12,
   "metadata": {},
   "outputs": [],
   "source": [
    "import torch\n",
    "import json\n",
    "import os\n",
    "\n",
    "from src.models.model_builder import ModelBuilder\n",
    "from src.heads.classification_head import ModelWithClassificationHead\n",
    "from src.data_loaders.pan23 import PAN23DataModule"
   ]
  },
  {
   "cell_type": "code",
   "execution_count": 13,
   "metadata": {},
   "outputs": [],
   "source": [
    "def extract_torch_model(config, checkpoint_path, save_path, task):\n",
    "    \"\"\"\n",
    "    Takes the checkpoint of a pytorch lightning model and extracts the model\n",
    "    to a file, so it can be uploaded to huggingface hub. It also requires the\n",
    "    config that was used for training.\n",
    "    \"\"\"\n",
    "    model_name = config[\"model_name\"]\n",
    "    model_params = config[\"model_params\"]\n",
    "    data_module_params = config[\"pan_train_params\"][\"data_module_params\"]\n",
    "\n",
    "    data_module_params[\"data_path\"] = os.path.join(data_module_params[\"data_path\"], task)\n",
    "\n",
    "    model_path = os.path.join(save_path, f\"{task}.pt\")\n",
    "\n",
    "    checkpoint = torch.load(checkpoint_path)\n",
    "\n",
    "    state_dict = {}\n",
    "    for key, value in checkpoint['state_dict'].items():\n",
    "        state_dict[key.replace('model.', '', 1)] = value\n",
    "    state_dict.keys()\n",
    "\n",
    "    data_module = PAN23DataModule.from_joint_config(data_module_params)\n",
    "\n",
    "    model = ModelBuilder.build(model_name, model_params, data_module.get_vocab_size(), data_module.get_padding_idx())\n",
    "\n",
    "    model_with_class_head = ModelWithClassificationHead(\n",
    "        model,\n",
    "        model.get_out_embedding_dim(),\n",
    "        dropout_p=0.25,\n",
    "        ff_dim=2048,\n",
    "        joint_pairs=True,\n",
    "    )\n",
    "\n",
    "    model_with_class_head.load_state_dict(state_dict)\n",
    "\n",
    "    torch.save(model_with_class_head, model_path)"
   ]
  },
  {
   "cell_type": "code",
   "execution_count": 19,
   "metadata": {},
   "outputs": [
    {
     "name": "stderr",
     "output_type": "stream",
     "text": [
      "Some weights of RobertaModel were not initialized from the model checkpoint at roberta-base and are newly initialized: ['roberta.pooler.dense.bias', 'roberta.pooler.dense.weight']\n",
      "You should probably TRAIN this model on a down-stream task to be able to use it for predictions and inference.\n"
     ]
    }
   ],
   "source": [
    "checkpoint_paths = [\n",
    "    \"out/roberta-base/finetuned/task1/lightning_logs/version_12/checkpoints/epoch=9-val_f1_score=0.98.ckpt\",\n",
    "    \"out/roberta-base/finetuned/task2/lightning_logs/version_6/checkpoints/epoch=8-val_f1_score=0.76.ckpt\",\n",
    "    \"out/roberta-base/finetuned/task3/lightning_logs/version_5/checkpoints/epoch=7-val_f1_score=0.68.ckpt\",\n",
    "]\n",
    "for ind, checkpoint_path in enumerate(checkpoint_paths):\n",
    "    with open(\"configs/roberta-base.json\", \"r\") as f:\n",
    "        config = json.load(f)\n",
    "    task = f\"task{ind+1}\"\n",
    "    extract_torch_model(config, checkpoint_path, \"selected_models/roberta-base/\", \"task3\")"
   ]
  }
 ],
 "metadata": {
  "kernelspec": {
   "display_name": "Python 3",
   "language": "python",
   "name": "python3"
  },
  "language_info": {
   "codemirror_mode": {
    "name": "ipython",
    "version": 3
   },
   "file_extension": ".py",
   "mimetype": "text/x-python",
   "name": "python",
   "nbconvert_exporter": "python",
   "pygments_lexer": "ipython3",
   "version": "3.10.0"
  }
 },
 "nbformat": 4,
 "nbformat_minor": 2
}
